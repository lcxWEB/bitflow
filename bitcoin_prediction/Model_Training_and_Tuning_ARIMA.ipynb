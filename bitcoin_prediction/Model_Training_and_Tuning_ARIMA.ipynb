{
 "cells": [
  {
   "cell_type": "code",
   "execution_count": 51,
   "metadata": {},
   "outputs": [],
   "source": [
    "import pandas as pd\n",
    "import time\n",
    "from pmdarima import auto_arima\n",
    "from sklearn.metrics import mean_absolute_error, mean_absolute_percentage_error\n",
    "import matplotlib.pyplot as plt\n",
    "import seaborn as sns\n",
    "from sklearn.model_selection import train_test_split\n",
    "\n",
    "# Load and preprocess the dataset\n",
    "data = pd.read_csv('bitcoin_price_sentiment_addmean.csv')\n",
    "data['date'] = pd.to_datetime(data['date'])\n",
    "data.set_index('date', inplace=True)\n",
    "data = data[['Close', 'sentiment_scores']]\n",
    "\n",
    "# Set date frequency to avoid warning\n",
    "data.index = pd.DatetimeIndex(data.index).to_period('D')\n",
    "\n",
    "# Split data\n",
    "train_data, test_data = train_test_split(data, test_size=0.2, shuffle=False)"
   ]
  },
  {
   "cell_type": "code",
   "execution_count": 52,
   "metadata": {},
   "outputs": [
    {
     "name": "stdout",
     "output_type": "stream",
     "text": [
      "Performing stepwise search to minimize aic\n",
      " ARIMA(0,1,0)(0,0,0)[0] intercept   : AIC=59329.291, Time=0.07 sec\n",
      " ARIMA(1,1,0)(0,0,0)[0] intercept   : AIC=59320.167, Time=0.12 sec\n",
      " ARIMA(0,1,1)(0,0,0)[0] intercept   : AIC=59319.980, Time=0.14 sec\n",
      " ARIMA(0,1,0)(0,0,0)[0]             : AIC=59328.228, Time=0.06 sec\n",
      " ARIMA(1,1,1)(0,0,0)[0] intercept   : AIC=59321.583, Time=0.38 sec\n",
      " ARIMA(0,1,2)(0,0,0)[0] intercept   : AIC=59321.728, Time=0.22 sec\n",
      " ARIMA(1,1,2)(0,0,0)[0] intercept   : AIC=59323.575, Time=1.37 sec\n",
      " ARIMA(0,1,1)(0,0,0)[0]             : AIC=59319.026, Time=0.07 sec\n",
      " ARIMA(1,1,1)(0,0,0)[0]             : AIC=59320.564, Time=0.09 sec\n",
      " ARIMA(0,1,2)(0,0,0)[0]             : AIC=59320.789, Time=0.11 sec\n",
      " ARIMA(1,1,0)(0,0,0)[0]             : AIC=59319.208, Time=0.06 sec\n",
      " ARIMA(1,1,2)(0,0,0)[0]             : AIC=59322.570, Time=0.52 sec\n",
      "\n",
      "Best model:  ARIMA(0,1,1)(0,0,0)[0]          \n",
      "Total fit time: 3.217 seconds\n",
      "                               SARIMAX Results                                \n",
      "==============================================================================\n",
      "Dep. Variable:                      y   No. Observations:                 3728\n",
      "Model:               SARIMAX(0, 1, 1)   Log Likelihood              -29657.513\n",
      "Date:                Tue, 05 Nov 2024   AIC                          59319.026\n",
      "Time:                        18:14:51   BIC                          59331.472\n",
      "Sample:                    01-01-2012   HQIC                         59323.453\n",
      "                         - 03-16-2022                                         \n",
      "Covariance Type:                  opg                                         \n",
      "==============================================================================\n",
      "                 coef    std err          z      P>|z|      [0.025      0.975]\n",
      "------------------------------------------------------------------------------\n",
      "ma.L1         -0.0554      0.006     -9.823      0.000      -0.066      -0.044\n",
      "sigma2      4.784e+05   3148.716    151.923      0.000    4.72e+05    4.85e+05\n",
      "===================================================================================\n",
      "Ljung-Box (L1) (Q):                   0.00   Jarque-Bera (JB):             83074.65\n",
      "Prob(Q):                              0.99   Prob(JB):                         0.00\n",
      "Heteroskedasticity (H):            3423.15   Skew:                            -0.54\n",
      "Prob(H) (two-sided):                  0.00   Kurtosis:                        26.10\n",
      "===================================================================================\n",
      "\n",
      "Warnings:\n",
      "[1] Covariance matrix calculated using the outer product of gradients (complex-step).\n",
      "Mean Absolute Error (MAE): 15672.115857495643\n",
      "Mean Absolute Percentage Error (MAPE): 0.5330338931580348\n",
      "Runtime (seconds): 3.2271242141723633\n"
     ]
    }
   ],
   "source": [
    "# Use auto_arima to find the best ARIMA parameters with sentiment_scores as exogenous variable\n",
    "start_time = time.time()\n",
    "model = auto_arima(train_data['Close'], exogenous=train_data[['sentiment_scores']], seasonal=False, trace=True, error_action='ignore', suppress_warnings=True, d=1, start_p=0, start_q=0, max_p=5, max_q=5)\n",
    "end_time = time.time()\n",
    "\n",
    "# Summary of the best model chosen\n",
    "print(model.summary())\n",
    "\n",
    "# Predict on the test set\n",
    "predictions = model.predict(n_periods=len(test_data), exogenous=test_data[['sentiment_scores']])\n",
    "\n",
    "# Calculate metrics\n",
    "mae = mean_absolute_error(test_data['Close'], predictions)\n",
    "mape = mean_absolute_percentage_error(test_data['Close'], predictions)\n",
    "runtime = end_time - start_time\n",
    "\n",
    "# Print metrics\n",
    "print(f\"Mean Absolute Error (MAE): {mae}\")\n",
    "print(f\"Mean Absolute Percentage Error (MAPE): {mape}\")\n",
    "print(f\"Runtime (seconds): {runtime}\")"
   ]
  }
 ],
 "metadata": {
  "kernelspec": {
   "display_name": "base",
   "language": "python",
   "name": "python3"
  },
  "language_info": {
   "codemirror_mode": {
    "name": "ipython",
    "version": 3
   },
   "file_extension": ".py",
   "mimetype": "text/x-python",
   "name": "python",
   "nbconvert_exporter": "python",
   "pygments_lexer": "ipython3",
   "version": "3.12.4"
  }
 },
 "nbformat": 4,
 "nbformat_minor": 2
}
