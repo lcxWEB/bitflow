{
 "cells": [
  {
   "cell_type": "code",
   "execution_count": 1,
   "metadata": {},
   "outputs": [],
   "source": [
    "import pandas as pd\n",
    "import time\n",
    "from pmdarima import auto_arima\n",
    "from sklearn.metrics import mean_absolute_error, mean_absolute_percentage_error\n",
    "import matplotlib.pyplot as plt\n",
    "import seaborn as sns\n",
    "from sklearn.model_selection import train_test_split\n",
    "\n",
    "# Load and preprocess the dataset\n",
    "data = pd.read_csv('bitcoin_price_sentiment_addmean.csv')\n",
    "data['date'] = pd.to_datetime(data['date'])\n",
    "data.set_index('date', inplace=True)\n",
    "data = data[['Close', 'sentiment_scores']]\n",
    "\n",
    "# Set date frequency to avoid warning\n",
    "data.index = pd.DatetimeIndex(data.index).to_period('D')\n",
    "\n",
    "# Split data\n",
    "train_data, test_data = train_test_split(data, test_size=0.2, shuffle=False)"
   ]
  },
  {
   "cell_type": "code",
   "execution_count": 4,
   "metadata": {},
   "outputs": [
    {
     "name": "stdout",
     "output_type": "stream",
     "text": [
      "Future Predictions from 2024-10-04 to 2024-11-04:\n",
      "Date: 2024-10-04, Predicted Price: 39449.329\n",
      "Date: 2024-10-05, Predicted Price: 39534.497\n",
      "Date: 2024-10-06, Predicted Price: 39545.711\n",
      "Date: 2024-10-07, Predicted Price: 39516.027\n",
      "Date: 2024-10-08, Predicted Price: 39578.944\n",
      "Date: 2024-10-09, Predicted Price: 39616.513\n",
      "Date: 2024-10-10, Predicted Price: 39582.735\n",
      "Date: 2024-10-11, Predicted Price: 39623.694\n",
      "Date: 2024-10-12, Predicted Price: 39680.653\n",
      "Date: 2024-10-13, Predicted Price: 39654.348\n",
      "Date: 2024-10-14, Predicted Price: 39671.363\n",
      "Date: 2024-10-15, Predicted Price: 39738.013\n",
      "Date: 2024-10-16, Predicted Price: 39727.933\n",
      "Date: 2024-10-17, Predicted Price: 39724.171\n",
      "Date: 2024-10-18, Predicted Price: 39789.849\n",
      "Date: 2024-10-19, Predicted Price: 39800.465\n",
      "Date: 2024-10-20, Predicted Price: 39783.042\n",
      "Date: 2024-10-21, Predicted Price: 39838.424\n",
      "Date: 2024-10-22, Predicted Price: 39869.459\n",
      "Date: 2024-10-23, Predicted Price: 39847.549\n",
      "Date: 2024-10-24, Predicted Price: 39886.431\n",
      "Date: 2024-10-25, Predicted Price: 39933.424\n",
      "Date: 2024-10-26, Predicted Price: 39916.150\n",
      "Date: 2024-10-27, Predicted Price: 39936.393\n",
      "Date: 2024-10-28, Predicted Price: 39992.069\n",
      "Date: 2024-10-29, Predicted Price: 39986.620\n",
      "Date: 2024-10-30, Predicted Price: 39990.160\n",
      "Date: 2024-10-31, Predicted Price: 40046.228\n",
      "Date: 2024-11-01, Predicted Price: 40056.590\n",
      "Date: 2024-11-02, Predicted Price: 40048.601\n",
      "Date: 2024-11-03, Predicted Price: 40097.573\n",
      "Date: 2024-11-04, Predicted Price: 40124.043\n"
     ]
    },
    {
     "name": "stderr",
     "output_type": "stream",
     "text": [
      "/opt/anaconda3/lib/python3.12/site-packages/statsmodels/base/model.py:607: ConvergenceWarning: Maximum Likelihood optimization failed to converge. Check mle_retvals\n",
      "  warnings.warn(\"Maximum Likelihood optimization failed to \"\n",
      "/opt/anaconda3/lib/python3.12/site-packages/statsmodels/tsa/statespace/representation.py:374: FutureWarning: Unknown keyword arguments: dict_keys(['typ']).Passing unknown keyword arguments will raise a TypeError beginning in version 0.15.\n",
      "  warnings.warn(msg, FutureWarning)\n"
     ]
    }
   ],
   "source": [
    "import pickle\n",
    "from statsmodels.tsa.arima.model import ARIMA\n",
    "\n",
    "# Use auto_arima to find the best ARIMA parameters with sentiment_scores as exogenous variable\n",
    "# model = auto_arima(train_data['Close'], exogenous=train_data[['sentiment_scores']], seasonal=False, trace=True, error_action='ignore', suppress_warnings=True, d=1, start_p=0, start_q=0, max_p=5, max_q=5)\n",
    "# print(model.summary())\n",
    "\n",
    "# Fit the ARIMA model with the best parameters\n",
    "p, d, q = 3, 2, 3\n",
    "model = ARIMA(train_data['Close'], order=(p, d, q), exog=train_data[['sentiment_scores']])\n",
    "model = model.fit()\n",
    "\n",
    "# Predict on the test set\n",
    "predictions = model.predict(start=len(train_data), end=len(train_data) + len(test_data) - 1, exog=test_data[['sentiment_scores']], typ=\"levels\")\n",
    "\n",
    "# Calculate metrics\n",
    "mae = mean_absolute_error(test_data['Close'], predictions)\n",
    "mape = mean_absolute_percentage_error(test_data['Close'], predictions)\n",
    "\n",
    "# Plot the predictions\n",
    "formatted_mae = round(float(mae), 3)\n",
    "formatted_mape = round(float(mape) * 100, 3)\n",
    "\n",
    "'''\n",
    "model_data = {\n",
    "    'model': model,\n",
    "    'mae': formatted_mae,\n",
    "    'mape': formatted_mape,\n",
    "}\n",
    "\n",
    "with open('arima_model.pkl', 'wb') as file:\n",
    "    pickle.dump(model_data, file)\n",
    "\n",
    "print(\"arima_model.pkl saved\")\n",
    "'''"
   ]
  }
 ],
 "metadata": {
  "kernelspec": {
   "display_name": "base",
   "language": "python",
   "name": "python3"
  },
  "language_info": {
   "codemirror_mode": {
    "name": "ipython",
    "version": 3
   },
   "file_extension": ".py",
   "mimetype": "text/x-python",
   "name": "python",
   "nbconvert_exporter": "python",
   "pygments_lexer": "ipython3",
   "version": "3.12.4"
  }
 },
 "nbformat": 4,
 "nbformat_minor": 2
}
