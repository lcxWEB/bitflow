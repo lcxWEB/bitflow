{
 "cells": [
  {
   "cell_type": "markdown",
   "id": "b58796da",
   "metadata": {
    "id": "b58796da"
   },
   "source": [
    "# Bitcoin Price Prediction using Random Forest"
   ]
  },
  {
   "cell_type": "code",
   "execution_count": null,
   "id": "8fd500bf",
   "metadata": {},
   "outputs": [],
   "source": [
    "import pandas as pd\n",
    "import time\n",
    "from sklearn.preprocessing import StandardScaler\n",
    "from sklearn.model_selection import train_test_split\n",
    "from sklearn.ensemble import RandomForestRegressor\n",
    "from sklearn.metrics import mean_absolute_error, mean_absolute_percentage_error\n",
    "import joblib\n",
    "import matplotlib.pyplot as plt\n",
    "\n",
    "# Load the dataset\n",
    "file_path = 'bitcoin_price_sentiment_addmean.csv'\n",
    "data = pd.read_csv(file_path)\n",
    "\n",
    "# Automatically convert the 'date' column to datetime format and drop rows with parsing errors\n",
    "data['date'] = pd.to_datetime(data['date'], dayfirst=False, errors='coerce')\n",
    "data.dropna(subset=['date'], inplace=True)\n",
    "\n",
    "# Drop rows with NaN values due to shift operations (if any)\n",
    "data.dropna(inplace=True)\n",
    "\n",
    "# Check if data is empty after creating features\n",
    "if data.empty:\n",
    "    raise ValueError(\"The dataset is empty after processing. Please check the input data.\")\n",
    "\n",
    "# Define features and target variable\n",
    "x = data[['Open', 'High', 'Low', 'Volume', 'sentiment_scores']]\n",
    "y = data['Close']\n",
    "\n",
    "# Standardize the features\n",
    "scaler = StandardScaler()\n",
    "x_scaled = scaler.fit_transform(x)\n",
    "\n",
    "# Split the data into training and testing sets based on time sequence\n",
    "# Output the start and end dates for the training and testing sets\n",
    "print(f\"Training set start date: {data['date'].iloc[0]}\")\n",
    "print(f\"Training set end date: {data['date'].iloc[train_size - 1]}\")\n",
    "print(f\"Testing set start date: {data['date'].iloc[train_size]}\")\n",
    "print(f\"Testing set end date: {data['date'].iloc[-1]}\")\n",
    "train_size = int(len(data) * 0.8)\n",
    "x_train = x_scaled[:train_size]\n",
    "x_test = x_scaled[train_size:]\n",
    "y_train = y[:train_size]\n",
    "y_test = y[train_size:]\n",
    "\n",
    "# Train the Random Forest Regressor model\n",
    "rf_model = RandomForestRegressor(n_estimators=100, random_state=42)\n",
    "start_time = time.time()\n",
    "rf_model.fit(x_train, y_train)\n",
    "end_time = time.time()\n",
    "training_time = end_time - start_time\n",
    "\n",
    "# Evaluate the model\n",
    "y_pred = rf_model.predict(x_test)\n",
    "mae = mean_absolute_error(y_test, y_pred)\n",
    "mape = mean_absolute_percentage_error(y_test, y_pred)\n",
    "\n",
    "# Output evaluation results\n",
    "print(f\"Training time: {training_time:.2f} seconds\")\n",
    "print(f\"Mean Absolute Error (MAE): {mae:.2f}\")\n",
    "print(f\"Mean Absolute Percentage Error (MAPE): {mape:.2%}\")\n",
    "\n",
    "# Export the model\n",
    "model_export_path = 'rf_model.pkl'\n",
    "joblib.dump(rf_model, model_export_path)\n",
    "print(f\"Model exported to: {model_export_path}\")\n",
    "\n",
    "# Export the scaler\n",
    "scaler_export_path = 'rf_scaler.pkl'\n",
    "joblib.dump(scaler, scaler_export_path)\n",
    "print(f\"Scaler exported to: {scaler_export_path}\")\n",
    "\n",
    "# Visualize the prediction results\n",
    "# Create a DataFrame with test results to access the date index\n",
    "test_results = data.iloc[y_test.index]\n",
    "plt.figure(figsize=(12, 6))\n",
    "plt.plot(range(len(y_test)), y_test.values, label='Actual', color='blue')\n",
    "plt.plot(range(len(y_pred)), y_pred, label='Predicted', color='orange', linestyle='--')\n",
    "plt.title('Bitcoin Price Prediction')\n",
    "plt.xlabel('Samples')\n",
    "plt.ylabel('Closing Price')\n",
    "plt.legend()\n",
    "plt.grid(True)\n",
    "plt.show()\n"
   ]
  },
  {
   "cell_type": "markdown",
   "id": "cb3236cd",
   "metadata": {
    "id": "cb3236cd"
   },
   "source": [
    "This notebook demonstrates how to use a Random Forest model to predict the closing price of Bitcoin using historical data."
   ]
  }
 ],
 "metadata": {
  "colab": {
   "provenance": []
  },
  "kernelspec": {
   "display_name": "myenv",
   "language": "python",
   "name": "python3"
  },
  "language_info": {
   "codemirror_mode": {
    "name": "ipython",
    "version": 3
   },
   "file_extension": ".py",
   "mimetype": "text/x-python",
   "name": "python",
   "nbconvert_exporter": "python",
   "pygments_lexer": "ipython3",
   "version": "3.9.2"
  }
 },
 "nbformat": 4,
 "nbformat_minor": 5
}
