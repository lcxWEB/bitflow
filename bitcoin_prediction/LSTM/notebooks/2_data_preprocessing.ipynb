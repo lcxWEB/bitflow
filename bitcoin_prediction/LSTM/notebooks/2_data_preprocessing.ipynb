{
 "cells": [
  {
   "cell_type": "markdown",
   "id": "c91ddb60-1de1-4986-8f98-0033a76b324e",
   "metadata": {},
   "source": [
    "# 3. Feature Selection and Data Preparation"
   ]
  },
  {
   "cell_type": "code",
   "execution_count": 1,
   "id": "4718c528-219c-49ae-9dfc-1e1821a9331a",
   "metadata": {},
   "outputs": [
    {
     "name": "stdout",
     "output_type": "stream",
     "text": [
      "<class 'pandas.core.frame.DataFrame'>\n",
      "RangeIndex: 4660 entries, 0 to 4659\n",
      "Data columns (total 8 columns):\n",
      " #   Column             Non-Null Count  Dtype  \n",
      "---  ------             --------------  -----  \n",
      " 0   date               4660 non-null   object \n",
      " 1   Open               4660 non-null   float64\n",
      " 2   High               4660 non-null   float64\n",
      " 3   Low                4660 non-null   float64\n",
      " 4   Close              4660 non-null   float64\n",
      " 5   Volume             4660 non-null   float64\n",
      " 6   sentiment_scores   4660 non-null   float64\n",
      " 7   is_real_sentiment  4660 non-null   bool   \n",
      "dtypes: bool(1), float64(6), object(1)\n",
      "memory usage: 259.5+ KB\n"
     ]
    }
   ],
   "source": [
    "import pandas as pd\n",
    "import numpy as np\n",
    "df = pd.read_csv('../data/processed/processed_data.csv')  \n",
    "df.info()"
   ]
  },
  {
   "cell_type": "code",
   "execution_count": 2,
   "id": "2b83ab4a-3649-4056-94d3-28cbe9452213",
   "metadata": {},
   "outputs": [],
   "source": [
    "# Feature Selection\n",
    "selected_features = ['Open', 'Volume', 'sentiment_scores','is_real_sentiment']\n",
    "target = 'Close'"
   ]
  },
  {
   "cell_type": "code",
   "execution_count": 3,
   "id": "5a3c2973-0e6e-431c-b6a0-7fefd6e4e41d",
   "metadata": {},
   "outputs": [],
   "source": [
    "X = df[selected_features]\n",
    "y = df[target]"
   ]
  },
  {
   "cell_type": "code",
   "execution_count": 4,
   "id": "43f08f15-222e-45e7-8ac5-67cdaeecb692",
   "metadata": {},
   "outputs": [],
   "source": [
    "# Data Normalization \n",
    "from sklearn.preprocessing import MinMaxScaler\n",
    "import joblib\n",
    "\n",
    "scaler_X = MinMaxScaler()\n",
    "scaler_y = MinMaxScaler()\n",
    "\n",
    "X_normalized = pd.DataFrame(scaler_X.fit_transform(X), columns=X.columns, index=X.index)\n",
    "y_normalized = pd.DataFrame(scaler_y.fit_transform(y.values.reshape(-1, 1)), columns=[target], index=y.index)\n"
   ]
  },
  {
   "cell_type": "code",
   "execution_count": 5,
   "id": "c34bf948-5cd0-4271-9a07-7972a0a1773e",
   "metadata": {},
   "outputs": [
    {
     "name": "stdout",
     "output_type": "stream",
     "text": [
      "Normalized X head:\n",
      "       Open  Volume  sentiment_scores  is_real_sentiment\n",
      "0  0.000006     0.0          0.382675                0.0\n",
      "1  0.000008     0.0          0.382675                0.0\n",
      "2  0.000012     0.0          0.382675                0.0\n",
      "3  0.000016     0.0          0.382675                0.0\n",
      "4  0.000028     0.0          0.382675                0.0\n",
      "\n",
      "Normalized y head:\n",
      "      Close\n",
      "0  0.000006\n",
      "1  0.000008\n",
      "2  0.000012\n",
      "3  0.000016\n",
      "4  0.000028\n"
     ]
    }
   ],
   "source": [
    "print(\"Normalized X head:\")\n",
    "print(X_normalized.head())\n",
    "print(\"\\nNormalized y head:\")\n",
    "print(y_normalized.head())"
   ]
  },
  {
   "cell_type": "code",
   "execution_count": 7,
   "id": "00f7ef91-01e5-49ae-b9f0-1c1b340933d5",
   "metadata": {},
   "outputs": [
    {
     "name": "stdout",
     "output_type": "stream",
     "text": [
      "Data saved successfully!\n",
      "X_normalized shape: (4660, 4)\n",
      "y_normalized shape: (4660, 1)\n"
     ]
    }
   ],
   "source": [
    "try:\n",
    "    # Save scalers for future use\n",
    "    joblib.dump(scaler_X, '../models/scaler_X.pkl')\n",
    "    joblib.dump(scaler_y, '../models/scaler_y.pkl')\n",
    "    \n",
    "    # Save normalized data as a dictionary\n",
    "    normalized_data = {\n",
    "        'X_normalized': X_normalized,\n",
    "        'y_normalized': y_normalized\n",
    "    }\n",
    "    joblib.dump(normalized_data, '../models/normalized_data.pkl')\n",
    "    \n",
    "    print(\"Data saved successfully!\")\n",
    "    print(f\"X_normalized shape: {X_normalized.shape}\")\n",
    "    print(f\"y_normalized shape: {y_normalized.shape}\")\n",
    "    \n",
    "except Exception as e:\n",
    "    print(f\"Error saving data: {e}\")"
   ]
  }
 ],
 "metadata": {
  "kernelspec": {
   "display_name": "Python 3 (ipykernel)",
   "language": "python",
   "name": "python3"
  },
  "language_info": {
   "codemirror_mode": {
    "name": "ipython",
    "version": 3
   },
   "file_extension": ".py",
   "mimetype": "text/x-python",
   "name": "python",
   "nbconvert_exporter": "python",
   "pygments_lexer": "ipython3",
   "version": "3.12.5"
  }
 },
 "nbformat": 4,
 "nbformat_minor": 5
}
